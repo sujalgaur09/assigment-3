{
 "cells": [
  {
   "cell_type": "code",
   "execution_count": 1,
   "id": "48e916c7-a5c6-4900-ba24-f26a259d9119",
   "metadata": {},
   "outputs": [],
   "source": [
    "               ##assignment"
   ]
  },
  {
   "cell_type": "code",
   "execution_count": 3,
   "id": "0c1eab57-bfa9-4adc-877a-214775c9dec3",
   "metadata": {},
   "outputs": [
    {
     "name": "stdout",
     "output_type": "stream",
     "text": [
      "FOR LOOP = A for loop is a control flow statement that executes code for a predefined number of iterations. The keyword used in this control flow statement is “for”. When the number of iterations is already known, the for loop is used.\n",
      "WHILE LOOP =A loop that runs a single statement or a set of statements for a given true condition. This loop is represented by the keyword \"while.\" When the number of iterations is unknown, a \"while\" loop is used. The statement is repeated until the boolean value is false. Because the condition is tested at the beginning of a while loop, it is also known as the pre-test loop\n"
     ]
    }
   ],
   "source": [
    "#answer1\n",
    "print(\"\"\"FOR LOOP = A for loop is a control flow statement that executes code for a predefined number of iterations. The keyword used in this control flow statement is “for”. When the number of iterations is already known, the for loop is used.\n",
    "WHILE LOOP =A loop that runs a single statement or a set of statements for a given true condition. This loop is represented by the keyword \"while.\" When the number of iterations is unknown, a \"while\" loop is used. The statement is repeated until the boolean value is false. Because the condition is tested at the beginning of a while loop, it is also known as the pre-test loop\"\"\")"
   ]
  },
  {
   "cell_type": "code",
   "execution_count": 4,
   "id": "8dfa4ee6-a906-46ed-97b6-c2699d87a066",
   "metadata": {},
   "outputs": [],
   "source": [
    "#EXAMPLE OF FOR LOOP\n",
    "l = [1,2,3,4,5,6,7,8,9]"
   ]
  },
  {
   "cell_type": "code",
   "execution_count": 5,
   "id": "ad7069ba-78a5-4dd5-8cf5-12363d0f157d",
   "metadata": {},
   "outputs": [
    {
     "name": "stdout",
     "output_type": "stream",
     "text": [
      "1\n",
      "2\n",
      "3\n",
      "4\n",
      "5\n",
      "6\n",
      "7\n",
      "8\n",
      "9\n"
     ]
    }
   ],
   "source": [
    "for i in l :\n",
    "    print (i)"
   ]
  },
  {
   "cell_type": "code",
   "execution_count": 7,
   "id": "c410947d-75bb-40b1-9591-d6878b6b62e5",
   "metadata": {},
   "outputs": [
    {
     "name": "stdout",
     "output_type": "stream",
     "text": [
      "1\n",
      "2\n",
      "3\n",
      "4\n",
      "5\n",
      "6\n",
      "7\n",
      "8\n",
      "9\n",
      "10\n"
     ]
    }
   ],
   "source": [
    "#EXAMPLE OF WHILE LOOP\n",
    "a = 1\n",
    "while a <=10:\n",
    "    print (a)\n",
    "    a = a+1"
   ]
  },
  {
   "cell_type": "code",
   "execution_count": 6,
   "id": "e8fdebf7-296d-42c9-80f2-33bb6af82e42",
   "metadata": {},
   "outputs": [],
   "source": [
    "##sum and product of first 10 natural numbers \n",
    "l = [1,2,3,4,5,6,7,8,9,10]\n",
    "    \n",
    "\n",
    "    \n",
    "    "
   ]
  },
  {
   "cell_type": "code",
   "execution_count": 7,
   "id": "202f6348-f4d0-4c1d-96c7-aa28233afd0d",
   "metadata": {},
   "outputs": [
    {
     "data": {
      "text/plain": [
       "[1, 2, 3, 4, 5, 6, 7, 8, 9, 10]"
      ]
     },
     "execution_count": 7,
     "metadata": {},
     "output_type": "execute_result"
    }
   ],
   "source": [
    "l"
   ]
  },
  {
   "cell_type": "code",
   "execution_count": 15,
   "id": "a4565f13-7b1f-468f-a461-6919a30278e9",
   "metadata": {},
   "outputs": [
    {
     "name": "stdout",
     "output_type": "stream",
     "text": [
      "sum is 55\n"
     ]
    }
   ],
   "source": [
    "#sum \n",
    "i=l\n",
    "sum = 0 \n",
    "for i in l:\n",
    "    sum = sum + i\n",
    "print ( \"sum is\", sum)"
   ]
  },
  {
   "cell_type": "code",
   "execution_count": 16,
   "id": "e5798d27-2bc4-4534-b787-9fb63895df46",
   "metadata": {},
   "outputs": [
    {
     "name": "stdout",
     "output_type": "stream",
     "text": [
      "the product is  3628800\n"
     ]
    }
   ],
   "source": [
    "#product\n",
    "i = 1\n",
    "product = 1\n",
    "while i <=10:\n",
    "    product = product * i\n",
    "    i = i + 1\n",
    "print (\"the product is \", product) \n",
    "    \n",
    "    "
   ]
  },
  {
   "cell_type": "code",
   "execution_count": 17,
   "id": "084d1b01-dd02-4785-9819-1c8c2b2e6e7b",
   "metadata": {},
   "outputs": [
    {
     "name": "stdout",
     "output_type": "stream",
     "text": [
      "ANSWER 3 \n"
     ]
    }
   ],
   "source": [
    "print(\"ANSWER 3 \")"
   ]
  },
  {
   "cell_type": "code",
   "execution_count": 32,
   "id": "4660d588-d78c-487b-9136-1df85c4b30a1",
   "metadata": {},
   "outputs": [
    {
     "name": "stdin",
     "output_type": "stream",
     "text": [
      "units of electricity consumed 310\n"
     ]
    },
    {
     "name": "stdout",
     "output_type": "stream",
     "text": [
      "the electricity bill is 2250.0\n"
     ]
    }
   ],
   "source": [
    "unit = int(input(\"units of electricity consumed\"))\n",
    "if unit <= 100:\n",
    "    charge = 4.5*unit \n",
    "    print (\"the electricity bill is\" , charge)\n",
    "elif unit > 100 and unit <= 200 :\n",
    "    charge = 4.5* 100 + (unit-100)*6\n",
    "    print (\"the electricity bill is \" , charge)\n",
    "elif unit >200 and unit <=300:\n",
    "    charge = 4.5*100 + 100*6 + (unit-200)*10\n",
    "    print (\"the electricity bill is \" , charge)\n",
    "elif unit > 300:\n",
    "    charge = 4.5*100 + 100*6 + 100*10 +(unit-300)*20\n",
    "    print (\"the electricity bill is\" , charge)"
   ]
  },
  {
   "cell_type": "code",
   "execution_count": 1,
   "id": "99dfffb4-b9c3-474f-bc5f-de53dc22a0de",
   "metadata": {},
   "outputs": [
    {
     "name": "stdout",
     "output_type": "stream",
     "text": [
      "ANSWER4\n"
     ]
    }
   ],
   "source": [
    "print(\"ANSWER4\")"
   ]
  },
  {
   "cell_type": "code",
   "execution_count": 24,
   "id": "e74894c8-065b-42cd-a6a3-f2f68c7396da",
   "metadata": {},
   "outputs": [],
   "source": [
    "l = []"
   ]
  },
  {
   "cell_type": "code",
   "execution_count": 25,
   "id": "daeecc24-961c-4f51-81e8-774f06d42d0b",
   "metadata": {},
   "outputs": [
    {
     "data": {
      "text/plain": [
       "list"
      ]
     },
     "execution_count": 25,
     "metadata": {},
     "output_type": "execute_result"
    }
   ],
   "source": [
    "type(l)"
   ]
  },
  {
   "cell_type": "code",
   "execution_count": 36,
   "id": "80a5262a-e68b-424a-916d-338b1326641f",
   "metadata": {},
   "outputs": [
    {
     "name": "stdout",
     "output_type": "stream",
     "text": [
      "[1, 2, 3, 4, 5, 6, 7, 8, 9, 10, 11, 12, 13, 14, 15, 16, 17, 18, 19, 20, 21, 22, 23, 24, 25, 26, 27, 28, 29, 30, 31, 32, 33, 34, 35, 36, 37, 38, 39, 40, 41, 42, 43, 44, 45, 46, 47, 48, 49, 50, 51, 52, 53, 54, 55, 56, 57, 58, 59, 60, 61, 62, 63, 64, 65, 66, 67, 68, 69, 70, 71, 72, 73, 74, 75, 76, 77, 78, 79, 80, 81, 82, 83, 84, 85, 86, 87, 88, 89, 90, 91, 92, 93, 94, 95, 96, 97, 98, 99, 100]\n"
     ]
    }
   ],
   "source": [
    "for a in range (1 , 101):\n",
    "    l.append(a)\n",
    "print(l)"
   ]
  },
  {
   "cell_type": "code",
   "execution_count": 73,
   "id": "4e297b8b-27f4-47ff-8c82-b218446c3892",
   "metadata": {},
   "outputs": [],
   "source": [
    "l2 = [\"cube of numbers from 1 to 100\"]\n"
   ]
  },
  {
   "cell_type": "code",
   "execution_count": 74,
   "id": "91541204-77dd-4c4a-bcb0-5b2645c04b9c",
   "metadata": {},
   "outputs": [],
   "source": [
    "for i in l :\n",
    "    i = i**3\n",
    "    l2.append(i)"
   ]
  },
  {
   "cell_type": "code",
   "execution_count": 75,
   "id": "854d00df-8d51-4000-ba35-965e7f6265b2",
   "metadata": {},
   "outputs": [
    {
     "data": {
      "text/plain": [
       "['cube of numbers from 1 to 100',\n",
       " 1,\n",
       " 8,\n",
       " 27,\n",
       " 64,\n",
       " 125,\n",
       " 216,\n",
       " 343,\n",
       " 512,\n",
       " 729,\n",
       " 1000,\n",
       " 1331,\n",
       " 1728,\n",
       " 2197,\n",
       " 2744,\n",
       " 3375,\n",
       " 4096,\n",
       " 4913,\n",
       " 5832,\n",
       " 6859,\n",
       " 8000,\n",
       " 9261,\n",
       " 10648,\n",
       " 12167,\n",
       " 13824,\n",
       " 15625,\n",
       " 17576,\n",
       " 19683,\n",
       " 21952,\n",
       " 24389,\n",
       " 27000,\n",
       " 29791,\n",
       " 32768,\n",
       " 35937,\n",
       " 39304,\n",
       " 42875,\n",
       " 46656,\n",
       " 50653,\n",
       " 54872,\n",
       " 59319,\n",
       " 64000,\n",
       " 68921,\n",
       " 74088,\n",
       " 79507,\n",
       " 85184,\n",
       " 91125,\n",
       " 97336,\n",
       " 103823,\n",
       " 110592,\n",
       " 117649,\n",
       " 125000,\n",
       " 132651,\n",
       " 140608,\n",
       " 148877,\n",
       " 157464,\n",
       " 166375,\n",
       " 175616,\n",
       " 185193,\n",
       " 195112,\n",
       " 205379,\n",
       " 216000,\n",
       " 226981,\n",
       " 238328,\n",
       " 250047,\n",
       " 262144,\n",
       " 274625,\n",
       " 287496,\n",
       " 300763,\n",
       " 314432,\n",
       " 328509,\n",
       " 343000,\n",
       " 357911,\n",
       " 373248,\n",
       " 389017,\n",
       " 405224,\n",
       " 421875,\n",
       " 438976,\n",
       " 456533,\n",
       " 474552,\n",
       " 493039,\n",
       " 512000,\n",
       " 531441,\n",
       " 551368,\n",
       " 571787,\n",
       " 592704,\n",
       " 614125,\n",
       " 636056,\n",
       " 658503,\n",
       " 681472,\n",
       " 704969,\n",
       " 729000,\n",
       " 753571,\n",
       " 778688,\n",
       " 804357,\n",
       " 830584,\n",
       " 857375,\n",
       " 884736,\n",
       " 912673,\n",
       " 941192,\n",
       " 970299,\n",
       " 1000000]"
      ]
     },
     "execution_count": 75,
     "metadata": {},
     "output_type": "execute_result"
    }
   ],
   "source": [
    "l2"
   ]
  },
  {
   "cell_type": "code",
   "execution_count": 70,
   "id": "7a603b8b-7f8b-4132-827e-5d50909aaf7d",
   "metadata": {},
   "outputs": [],
   "source": [
    "l3 = [\"number divied by 4 or 5\"]"
   ]
  },
  {
   "cell_type": "code",
   "execution_count": 71,
   "id": "b8977417-a267-4118-a293-46001646f67e",
   "metadata": {},
   "outputs": [],
   "source": [
    "for j in l2:\n",
    "    if j % 4 == 0 or j % 5 == 0 :\n",
    "        l3.append(j)"
   ]
  },
  {
   "cell_type": "code",
   "execution_count": 72,
   "id": "fbb857fd-564d-4276-913b-1b88ef779e87",
   "metadata": {},
   "outputs": [
    {
     "data": {
      "text/plain": [
       "['number divied by 4 or 5',\n",
       " 8,\n",
       " 64,\n",
       " 125,\n",
       " 216,\n",
       " 512,\n",
       " 1000,\n",
       " 1728,\n",
       " 2744,\n",
       " 3375,\n",
       " 4096,\n",
       " 5832,\n",
       " 8000,\n",
       " 10648,\n",
       " 13824,\n",
       " 15625,\n",
       " 17576,\n",
       " 21952,\n",
       " 27000,\n",
       " 32768,\n",
       " 39304,\n",
       " 42875,\n",
       " 46656,\n",
       " 54872,\n",
       " 64000,\n",
       " 74088,\n",
       " 85184,\n",
       " 91125,\n",
       " 97336,\n",
       " 110592,\n",
       " 125000,\n",
       " 140608,\n",
       " 157464,\n",
       " 166375,\n",
       " 175616,\n",
       " 195112,\n",
       " 216000,\n",
       " 238328,\n",
       " 262144,\n",
       " 274625,\n",
       " 287496,\n",
       " 314432,\n",
       " 343000,\n",
       " 373248,\n",
       " 405224,\n",
       " 421875,\n",
       " 438976,\n",
       " 474552,\n",
       " 512000,\n",
       " 551368,\n",
       " 592704,\n",
       " 614125,\n",
       " 636056,\n",
       " 681472,\n",
       " 729000,\n",
       " 778688,\n",
       " 830584,\n",
       " 857375,\n",
       " 884736,\n",
       " 941192,\n",
       " 1000000]"
      ]
     },
     "execution_count": 72,
     "metadata": {},
     "output_type": "execute_result"
    }
   ],
   "source": [
    "l3"
   ]
  },
  {
   "cell_type": "code",
   "execution_count": 77,
   "id": "dfde0e2b-affc-4c34-8d82-f1a63187cef2",
   "metadata": {},
   "outputs": [
    {
     "name": "stdout",
     "output_type": "stream",
     "text": [
      "ANSWER 5\n"
     ]
    }
   ],
   "source": [
    "print(\"ANSWER 5\")"
   ]
  },
  {
   "cell_type": "code",
   "execution_count": 78,
   "id": "f600e61a-df80-4973-b9e7-ee8e54e33512",
   "metadata": {},
   "outputs": [],
   "source": [
    "##write in program to count vowels in following string "
   ]
  },
  {
   "cell_type": "code",
   "execution_count": 83,
   "id": "493af6aa-89ae-4331-a9da-5e3cb7c58229",
   "metadata": {},
   "outputs": [],
   "source": [
    "s1 = \"I want to become a data scientist\""
   ]
  },
  {
   "cell_type": "code",
   "execution_count": 84,
   "id": "4d2d0b3a-5849-4926-8920-8e7f504f5d15",
   "metadata": {},
   "outputs": [
    {
     "data": {
      "text/plain": [
       "'I want to become a data scientist'"
      ]
     },
     "execution_count": 84,
     "metadata": {},
     "output_type": "execute_result"
    }
   ],
   "source": [
    "s1"
   ]
  },
  {
   "cell_type": "code",
   "execution_count": 85,
   "id": "d5388c29-75a6-4b8e-b356-d80ab80c0a63",
   "metadata": {},
   "outputs": [
    {
     "data": {
      "text/plain": [
       "'i want to become a data scientist'"
      ]
     },
     "execution_count": 85,
     "metadata": {},
     "output_type": "execute_result"
    }
   ],
   "source": [
    "s1.lower()"
   ]
  },
  {
   "cell_type": "code",
   "execution_count": 94,
   "id": "8b7b6b20-2bf8-4d83-8cbb-3a6ebd6dc7d5",
   "metadata": {},
   "outputs": [],
   "source": [
    "v = [ \"a\",\"e\",\"i\",\"o\",\"u\"]"
   ]
  },
  {
   "cell_type": "code",
   "execution_count": 98,
   "id": "df55cb6b-29ae-49b2-b691-a9a537857735",
   "metadata": {},
   "outputs": [
    {
     "name": "stdout",
     "output_type": "stream",
     "text": [
      "number of vowels in string is 11\n"
     ]
    }
   ],
   "source": [
    "\n",
    "count = 0\n",
    "for s in s1:\n",
    "    if s in v:\n",
    "        count = count +1\n",
    "print (\"number of vowels in string is\" ,count)"
   ]
  },
  {
   "cell_type": "code",
   "execution_count": null,
   "id": "a3a55113-4446-48c4-8024-e46a6239cb25",
   "metadata": {},
   "outputs": [],
   "source": []
  }
 ],
 "metadata": {
  "kernelspec": {
   "display_name": "Python 3 (ipykernel)",
   "language": "python",
   "name": "python3"
  },
  "language_info": {
   "codemirror_mode": {
    "name": "ipython",
    "version": 3
   },
   "file_extension": ".py",
   "mimetype": "text/x-python",
   "name": "python",
   "nbconvert_exporter": "python",
   "pygments_lexer": "ipython3",
   "version": "3.10.8"
  }
 },
 "nbformat": 4,
 "nbformat_minor": 5
}
